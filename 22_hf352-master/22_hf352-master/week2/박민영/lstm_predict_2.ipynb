{
 "cells": [
  {
   "cell_type": "markdown",
   "id": "8b7df886",
   "metadata": {},
   "source": [
    "# 1. 데이터 로드 및 분포 확인"
   ]
  },
  {
   "cell_type": "markdown",
   "id": "99d98287",
   "metadata": {},
   "source": [
    "* 필요한 모듈 불러오기"
   ]
  },
  {
   "cell_type": "code",
   "execution_count": 2,
   "id": "b265b7db",
   "metadata": {},
   "outputs": [],
   "source": [
    "import tensorflow as tf\n",
    "import numpy as np\n",
    "import pandas as pd\n",
    "import matplotlib.pyplot as plt\n",
    "from tensorflow.keras.models import Sequential\n",
    "from tensorflow.keras.layers import LSTM, Dense, Dropout"
   ]
  },
  {
   "cell_type": "markdown",
   "id": "d21af27b",
   "metadata": {},
   "source": [
    "* 데이터 불러오기"
   ]
  },
  {
   "cell_type": "code",
   "execution_count": 3,
   "id": "cfdff38f",
   "metadata": {},
   "outputs": [
    {
     "data": {
      "text/html": [
       "<div>\n",
       "<style scoped>\n",
       "    .dataframe tbody tr th:only-of-type {\n",
       "        vertical-align: middle;\n",
       "    }\n",
       "\n",
       "    .dataframe tbody tr th {\n",
       "        vertical-align: top;\n",
       "    }\n",
       "\n",
       "    .dataframe thead th {\n",
       "        text-align: right;\n",
       "    }\n",
       "</style>\n",
       "<table border=\"1\" class=\"dataframe\">\n",
       "  <thead>\n",
       "    <tr style=\"text-align: right;\">\n",
       "      <th></th>\n",
       "      <th>Unnamed: 0</th>\n",
       "      <th>open</th>\n",
       "      <th>high</th>\n",
       "      <th>low</th>\n",
       "      <th>close</th>\n",
       "      <th>volume</th>\n",
       "    </tr>\n",
       "  </thead>\n",
       "  <tbody>\n",
       "    <tr>\n",
       "      <th>0</th>\n",
       "      <td>20220516</td>\n",
       "      <td>86900</td>\n",
       "      <td>87600</td>\n",
       "      <td>85700</td>\n",
       "      <td>85900</td>\n",
       "      <td>55383</td>\n",
       "    </tr>\n",
       "    <tr>\n",
       "      <th>1</th>\n",
       "      <td>20220513</td>\n",
       "      <td>84000</td>\n",
       "      <td>87400</td>\n",
       "      <td>83500</td>\n",
       "      <td>85800</td>\n",
       "      <td>86525</td>\n",
       "    </tr>\n",
       "    <tr>\n",
       "      <th>2</th>\n",
       "      <td>20220512</td>\n",
       "      <td>84700</td>\n",
       "      <td>85300</td>\n",
       "      <td>82700</td>\n",
       "      <td>83200</td>\n",
       "      <td>104007</td>\n",
       "    </tr>\n",
       "    <tr>\n",
       "      <th>3</th>\n",
       "      <td>20220511</td>\n",
       "      <td>87500</td>\n",
       "      <td>87500</td>\n",
       "      <td>85500</td>\n",
       "      <td>85800</td>\n",
       "      <td>108071</td>\n",
       "    </tr>\n",
       "    <tr>\n",
       "      <th>4</th>\n",
       "      <td>20220510</td>\n",
       "      <td>87500</td>\n",
       "      <td>88600</td>\n",
       "      <td>87000</td>\n",
       "      <td>88000</td>\n",
       "      <td>100350</td>\n",
       "    </tr>\n",
       "  </tbody>\n",
       "</table>\n",
       "</div>"
      ],
      "text/plain": [
       "   Unnamed: 0   open   high    low  close  volume\n",
       "0    20220516  86900  87600  85700  85900   55383\n",
       "1    20220513  84000  87400  83500  85800   86525\n",
       "2    20220512  84700  85300  82700  83200  104007\n",
       "3    20220511  87500  87500  85500  85800  108071\n",
       "4    20220510  87500  88600  87000  88000  100350"
      ]
     },
     "execution_count": 3,
     "metadata": {},
     "output_type": "execute_result"
    }
   ],
   "source": [
    "df = pd.read_csv('C:/Users/gram/OneDrive/바탕 화면/stock_project/stock_data.csv')\n",
    "df.head()"
   ]
  },
  {
   "cell_type": "code",
   "execution_count": 4,
   "id": "b0ca8cd4",
   "metadata": {},
   "outputs": [
    {
     "data": {
      "text/html": [
       "<div>\n",
       "<style scoped>\n",
       "    .dataframe tbody tr th:only-of-type {\n",
       "        vertical-align: middle;\n",
       "    }\n",
       "\n",
       "    .dataframe tbody tr th {\n",
       "        vertical-align: top;\n",
       "    }\n",
       "\n",
       "    .dataframe thead th {\n",
       "        text-align: right;\n",
       "    }\n",
       "</style>\n",
       "<table border=\"1\" class=\"dataframe\">\n",
       "  <thead>\n",
       "    <tr style=\"text-align: right;\">\n",
       "      <th></th>\n",
       "      <th>date</th>\n",
       "      <th>open</th>\n",
       "      <th>high</th>\n",
       "      <th>low</th>\n",
       "      <th>close</th>\n",
       "      <th>volume</th>\n",
       "    </tr>\n",
       "  </thead>\n",
       "  <tbody>\n",
       "    <tr>\n",
       "      <th>0</th>\n",
       "      <td>2022-05-16</td>\n",
       "      <td>86900</td>\n",
       "      <td>87600</td>\n",
       "      <td>85700</td>\n",
       "      <td>85900</td>\n",
       "      <td>55383</td>\n",
       "    </tr>\n",
       "    <tr>\n",
       "      <th>1</th>\n",
       "      <td>2022-05-13</td>\n",
       "      <td>84000</td>\n",
       "      <td>87400</td>\n",
       "      <td>83500</td>\n",
       "      <td>85800</td>\n",
       "      <td>86525</td>\n",
       "    </tr>\n",
       "    <tr>\n",
       "      <th>2</th>\n",
       "      <td>2022-05-12</td>\n",
       "      <td>84700</td>\n",
       "      <td>85300</td>\n",
       "      <td>82700</td>\n",
       "      <td>83200</td>\n",
       "      <td>104007</td>\n",
       "    </tr>\n",
       "    <tr>\n",
       "      <th>3</th>\n",
       "      <td>2022-05-11</td>\n",
       "      <td>87500</td>\n",
       "      <td>87500</td>\n",
       "      <td>85500</td>\n",
       "      <td>85800</td>\n",
       "      <td>108071</td>\n",
       "    </tr>\n",
       "    <tr>\n",
       "      <th>4</th>\n",
       "      <td>2022-05-10</td>\n",
       "      <td>87500</td>\n",
       "      <td>88600</td>\n",
       "      <td>87000</td>\n",
       "      <td>88000</td>\n",
       "      <td>100350</td>\n",
       "    </tr>\n",
       "    <tr>\n",
       "      <th>...</th>\n",
       "      <td>...</td>\n",
       "      <td>...</td>\n",
       "      <td>...</td>\n",
       "      <td>...</td>\n",
       "      <td>...</td>\n",
       "      <td>...</td>\n",
       "    </tr>\n",
       "    <tr>\n",
       "      <th>4465</th>\n",
       "      <td>2004-04-29</td>\n",
       "      <td>5117</td>\n",
       "      <td>5436</td>\n",
       "      <td>5025</td>\n",
       "      <td>5101</td>\n",
       "      <td>109911</td>\n",
       "    </tr>\n",
       "    <tr>\n",
       "      <th>4466</th>\n",
       "      <td>2004-04-28</td>\n",
       "      <td>5071</td>\n",
       "      <td>5452</td>\n",
       "      <td>4995</td>\n",
       "      <td>5444</td>\n",
       "      <td>182604</td>\n",
       "    </tr>\n",
       "    <tr>\n",
       "      <th>4467</th>\n",
       "      <td>2004-04-27</td>\n",
       "      <td>5452</td>\n",
       "      <td>5482</td>\n",
       "      <td>5033</td>\n",
       "      <td>5063</td>\n",
       "      <td>299489</td>\n",
       "    </tr>\n",
       "    <tr>\n",
       "      <th>4468</th>\n",
       "      <td>2004-04-26</td>\n",
       "      <td>5436</td>\n",
       "      <td>5741</td>\n",
       "      <td>5261</td>\n",
       "      <td>5398</td>\n",
       "      <td>343283</td>\n",
       "    </tr>\n",
       "    <tr>\n",
       "      <th>4469</th>\n",
       "      <td>2004-04-23</td>\n",
       "      <td>6076</td>\n",
       "      <td>6799</td>\n",
       "      <td>5353</td>\n",
       "      <td>5353</td>\n",
       "      <td>1415109</td>\n",
       "    </tr>\n",
       "  </tbody>\n",
       "</table>\n",
       "<p>4470 rows × 6 columns</p>\n",
       "</div>"
      ],
      "text/plain": [
       "           date   open   high    low  close   volume\n",
       "0    2022-05-16  86900  87600  85700  85900    55383\n",
       "1    2022-05-13  84000  87400  83500  85800    86525\n",
       "2    2022-05-12  84700  85300  82700  83200   104007\n",
       "3    2022-05-11  87500  87500  85500  85800   108071\n",
       "4    2022-05-10  87500  88600  87000  88000   100350\n",
       "...         ...    ...    ...    ...    ...      ...\n",
       "4465 2004-04-29   5117   5436   5025   5101   109911\n",
       "4466 2004-04-28   5071   5452   4995   5444   182604\n",
       "4467 2004-04-27   5452   5482   5033   5063   299489\n",
       "4468 2004-04-26   5436   5741   5261   5398   343283\n",
       "4469 2004-04-23   6076   6799   5353   5353  1415109\n",
       "\n",
       "[4470 rows x 6 columns]"
      ]
     },
     "execution_count": 4,
     "metadata": {},
     "output_type": "execute_result"
    }
   ],
   "source": [
    "# 컬럼 값 수정\n",
    "df.rename({'Unnamed: 0':'date'}, axis = 1, inplace = True)\n",
    "\n",
    "# date 컬럼의 데이터 타입 변환\n",
    "df['date'] = df['date'].astype('str') # date 열 문자열로 변환\n",
    "df['date'] = pd.to_datetime(df['date']) # datetime으로 변환\n",
    "\n",
    "df"
   ]
  },
  {
   "cell_type": "markdown",
   "id": "5cae3961",
   "metadata": {},
   "source": [
    "* 3일 이동평균선(3MA), 5일 이동평균선(5MA) 데이터 추가\n",
    " * 이동평균(Moving Average) : 일정 기간동안의 가격을 평균을 내어 수치화하고 이를 그래프로 그린 것\n",
    " * rolling() 메서드는 window size의 크기를 정하고 그 크기만큼 현재 위치를 기준으로 앞의 데이터 집합을 가지고 통계치를 구할 수 있음"
   ]
  },
  {
   "cell_type": "code",
   "execution_count": 5,
   "id": "94dff66d",
   "metadata": {},
   "outputs": [
    {
     "name": "stderr",
     "output_type": "stream",
     "text": [
      "C:\\Users\\gram\\AppData\\Local\\Temp/ipykernel_18304/866447260.py:8: SettingWithCopyWarning: \n",
      "A value is trying to be set on a copy of a slice from a DataFrame.\n",
      "Try using .loc[row_indexer,col_indexer] = value instead\n",
      "\n",
      "See the caveats in the documentation: https://pandas.pydata.org/pandas-docs/stable/user_guide/indexing.html#returning-a-view-versus-a-copy\n",
      "  df['ma3'] = ma3\n",
      "C:\\Users\\gram\\AppData\\Local\\Temp/ipykernel_18304/866447260.py:9: SettingWithCopyWarning: \n",
      "A value is trying to be set on a copy of a slice from a DataFrame.\n",
      "Try using .loc[row_indexer,col_indexer] = value instead\n",
      "\n",
      "See the caveats in the documentation: https://pandas.pydata.org/pandas-docs/stable/user_guide/indexing.html#returning-a-view-versus-a-copy\n",
      "  df['ma5'] = ma5\n"
     ]
    },
    {
     "data": {
      "text/html": [
       "<div>\n",
       "<style scoped>\n",
       "    .dataframe tbody tr th:only-of-type {\n",
       "        vertical-align: middle;\n",
       "    }\n",
       "\n",
       "    .dataframe tbody tr th {\n",
       "        vertical-align: top;\n",
       "    }\n",
       "\n",
       "    .dataframe thead th {\n",
       "        text-align: right;\n",
       "    }\n",
       "</style>\n",
       "<table border=\"1\" class=\"dataframe\">\n",
       "  <thead>\n",
       "    <tr style=\"text-align: right;\">\n",
       "      <th></th>\n",
       "      <th>date</th>\n",
       "      <th>open</th>\n",
       "      <th>high</th>\n",
       "      <th>low</th>\n",
       "      <th>close</th>\n",
       "      <th>volume</th>\n",
       "      <th>ma3</th>\n",
       "      <th>ma5</th>\n",
       "    </tr>\n",
       "  </thead>\n",
       "  <tbody>\n",
       "    <tr>\n",
       "      <th>4469</th>\n",
       "      <td>2004-04-23</td>\n",
       "      <td>6076</td>\n",
       "      <td>6799</td>\n",
       "      <td>5353</td>\n",
       "      <td>5353</td>\n",
       "      <td>1415109</td>\n",
       "      <td>NaN</td>\n",
       "      <td>NaN</td>\n",
       "    </tr>\n",
       "    <tr>\n",
       "      <th>4468</th>\n",
       "      <td>2004-04-26</td>\n",
       "      <td>5436</td>\n",
       "      <td>5741</td>\n",
       "      <td>5261</td>\n",
       "      <td>5398</td>\n",
       "      <td>343283</td>\n",
       "      <td>NaN</td>\n",
       "      <td>NaN</td>\n",
       "    </tr>\n",
       "    <tr>\n",
       "      <th>4467</th>\n",
       "      <td>2004-04-27</td>\n",
       "      <td>5452</td>\n",
       "      <td>5482</td>\n",
       "      <td>5033</td>\n",
       "      <td>5063</td>\n",
       "      <td>299489</td>\n",
       "      <td>5271.333333</td>\n",
       "      <td>NaN</td>\n",
       "    </tr>\n",
       "    <tr>\n",
       "      <th>4466</th>\n",
       "      <td>2004-04-28</td>\n",
       "      <td>5071</td>\n",
       "      <td>5452</td>\n",
       "      <td>4995</td>\n",
       "      <td>5444</td>\n",
       "      <td>182604</td>\n",
       "      <td>5301.666667</td>\n",
       "      <td>NaN</td>\n",
       "    </tr>\n",
       "    <tr>\n",
       "      <th>4465</th>\n",
       "      <td>2004-04-29</td>\n",
       "      <td>5117</td>\n",
       "      <td>5436</td>\n",
       "      <td>5025</td>\n",
       "      <td>5101</td>\n",
       "      <td>109911</td>\n",
       "      <td>5202.666667</td>\n",
       "      <td>5271.8</td>\n",
       "    </tr>\n",
       "  </tbody>\n",
       "</table>\n",
       "</div>"
      ],
      "text/plain": [
       "           date  open  high   low  close   volume          ma3     ma5\n",
       "4469 2004-04-23  6076  6799  5353   5353  1415109          NaN     NaN\n",
       "4468 2004-04-26  5436  5741  5261   5398   343283          NaN     NaN\n",
       "4467 2004-04-27  5452  5482  5033   5063   299489  5271.333333     NaN\n",
       "4466 2004-04-28  5071  5452  4995   5444   182604  5301.666667     NaN\n",
       "4465 2004-04-29  5117  5436  5025   5101   109911  5202.666667  5271.8"
      ]
     },
     "execution_count": 5,
     "metadata": {},
     "output_type": "execute_result"
    }
   ],
   "source": [
    "# 기존 데이터가 날짜 내림차순으로 되어있으므로 오름차순으로 변경\n",
    "df = df[::-1]\n",
    "\n",
    "# 이동 평균선 생성 위해 rolling을 한 후 신규 객체에 column을 추가\n",
    "ma3 = df['close'].rolling(window = 3).mean()\n",
    "ma5 = df['close'].rolling(window = 5).mean()\n",
    "\n",
    "df['ma3'] = ma3\n",
    "df['ma5'] = ma5\n",
    "\n",
    "df.head() # 8개의 column이 존재, 예측할 값은 close 값"
   ]
  },
  {
   "cell_type": "code",
   "execution_count": 6,
   "id": "02badf3b",
   "metadata": {},
   "outputs": [
    {
     "data": {
      "image/png": "[encoded data removed]",
      "text/plain": [
       "<Figure size 504x288 with 1 Axes>"
      ]
     },
     "metadata": {
      "needs_background": "light"
     },
     "output_type": "display_data"
    }
   ],
   "source": [
    "plt.figure(figsize = (7, 4))\n",
    "\n",
    "plt.title('kiwoon stock price')\n",
    "plt.ylabel('price (won)')\n",
    "plt.xlabel('period (day)')\n",
    "plt.grid()\n",
    "\n",
    "plt.plot(df['close'], label = 'close', color = 'b')\n",
    "plt.legend(loc = 'best')\n",
    "\n",
    "plt.show()"
   ]
  },
  {
   "cell_type": "markdown",
   "id": "9acc253f",
   "metadata": {},
   "source": [
    "# 2. 데이터 전처리\n",
    "* outlier, missing value 확인 후 대체(또는 삭제) 처리\n",
    "* 데이터 정규화 및 표준화\n",
    "* 딥러닝 학습을 위한 feature column, label column 정의"
   ]
  },
  {
   "cell_type": "markdown",
   "id": "a68d1a38",
   "metadata": {},
   "source": [
    "* 통계 정보 확인"
   ]
  },
  {
   "cell_type": "code",
   "execution_count": 7,
   "id": "01622d73",
   "metadata": {},
   "outputs": [
    {
     "data": {
      "text/html": [
       "<div>\n",
       "<style scoped>\n",
       "    .dataframe tbody tr th:only-of-type {\n",
       "        vertical-align: middle;\n",
       "    }\n",
       "\n",
       "    .dataframe tbody tr th {\n",
       "        vertical-align: top;\n",
       "    }\n",
       "\n",
       "    .dataframe thead th {\n",
       "        text-align: right;\n",
       "    }\n",
       "</style>\n",
       "<table border=\"1\" class=\"dataframe\">\n",
       "  <thead>\n",
       "    <tr style=\"text-align: right;\">\n",
       "      <th></th>\n",
       "      <th>open</th>\n",
       "      <th>high</th>\n",
       "      <th>low</th>\n",
       "      <th>close</th>\n",
       "      <th>volume</th>\n",
       "      <th>ma3</th>\n",
       "      <th>ma5</th>\n",
       "    </tr>\n",
       "  </thead>\n",
       "  <tbody>\n",
       "    <tr>\n",
       "      <th>count</th>\n",
       "      <td>4470.000000</td>\n",
       "      <td>4470.000000</td>\n",
       "      <td>4470.000000</td>\n",
       "      <td>4470.000000</td>\n",
       "      <td>4.470000e+03</td>\n",
       "      <td>4468.000000</td>\n",
       "      <td>4466.000000</td>\n",
       "    </tr>\n",
       "    <tr>\n",
       "      <th>mean</th>\n",
       "      <td>59847.644072</td>\n",
       "      <td>60888.410738</td>\n",
       "      <td>58767.295749</td>\n",
       "      <td>59839.697315</td>\n",
       "      <td>1.023067e+05</td>\n",
       "      <td>59846.063638</td>\n",
       "      <td>59852.703045</td>\n",
       "    </tr>\n",
       "    <tr>\n",
       "      <th>std</th>\n",
       "      <td>30386.551561</td>\n",
       "      <td>30844.794825</td>\n",
       "      <td>29866.988782</td>\n",
       "      <td>30332.026463</td>\n",
       "      <td>1.159110e+05</td>\n",
       "      <td>30302.905332</td>\n",
       "      <td>30279.302981</td>\n",
       "    </tr>\n",
       "    <tr>\n",
       "      <th>min</th>\n",
       "      <td>2436.000000</td>\n",
       "      <td>2471.000000</td>\n",
       "      <td>2425.000000</td>\n",
       "      <td>2429.000000</td>\n",
       "      <td>2.811000e+03</td>\n",
       "      <td>2440.333333</td>\n",
       "      <td>2466.200000</td>\n",
       "    </tr>\n",
       "    <tr>\n",
       "      <th>25%</th>\n",
       "      <td>43162.500000</td>\n",
       "      <td>43700.000000</td>\n",
       "      <td>42462.500000</td>\n",
       "      <td>43100.000000</td>\n",
       "      <td>3.776100e+04</td>\n",
       "      <td>43170.166667</td>\n",
       "      <td>43090.600000</td>\n",
       "    </tr>\n",
       "    <tr>\n",
       "      <th>50%</th>\n",
       "      <td>58200.000000</td>\n",
       "      <td>59200.000000</td>\n",
       "      <td>57050.000000</td>\n",
       "      <td>58100.000000</td>\n",
       "      <td>6.531800e+04</td>\n",
       "      <td>58150.000000</td>\n",
       "      <td>58100.000000</td>\n",
       "    </tr>\n",
       "    <tr>\n",
       "      <th>75%</th>\n",
       "      <td>76100.000000</td>\n",
       "      <td>77500.000000</td>\n",
       "      <td>75000.000000</td>\n",
       "      <td>76175.000000</td>\n",
       "      <td>1.197088e+05</td>\n",
       "      <td>76050.000000</td>\n",
       "      <td>75855.000000</td>\n",
       "    </tr>\n",
       "    <tr>\n",
       "      <th>max</th>\n",
       "      <td>162500.000000</td>\n",
       "      <td>167500.000000</td>\n",
       "      <td>156000.000000</td>\n",
       "      <td>162000.000000</td>\n",
       "      <td>1.415109e+06</td>\n",
       "      <td>156833.333333</td>\n",
       "      <td>155100.000000</td>\n",
       "    </tr>\n",
       "  </tbody>\n",
       "</table>\n",
       "</div>"
      ],
      "text/plain": [
       "                open           high            low          close  \\\n",
       "count    4470.000000    4470.000000    4470.000000    4470.000000   \n",
       "mean    59847.644072   60888.410738   58767.295749   59839.697315   \n",
       "std     30386.551561   30844.794825   29866.988782   30332.026463   \n",
       "min      2436.000000    2471.000000    2425.000000    2429.000000   \n",
       "25%     43162.500000   43700.000000   42462.500000   43100.000000   \n",
       "50%     58200.000000   59200.000000   57050.000000   58100.000000   \n",
       "75%     76100.000000   77500.000000   75000.000000   76175.000000   \n",
       "max    162500.000000  167500.000000  156000.000000  162000.000000   \n",
       "\n",
       "             volume            ma3            ma5  \n",
       "count  4.470000e+03    4468.000000    4466.000000  \n",
       "mean   1.023067e+05   59846.063638   59852.703045  \n",
       "std    1.159110e+05   30302.905332   30279.302981  \n",
       "min    2.811000e+03    2440.333333    2466.200000  \n",
       "25%    3.776100e+04   43170.166667   43090.600000  \n",
       "50%    6.531800e+04   58150.000000   58100.000000  \n",
       "75%    1.197088e+05   76050.000000   75855.000000  \n",
       "max    1.415109e+06  156833.333333  155100.000000  "
      ]
     },
     "execution_count": 7,
     "metadata": {},
     "output_type": "execute_result"
    }
   ],
   "source": [
    "df.describe()"
   ]
  },
  {
   "cell_type": "markdown",
   "id": "5e3e65a7",
   "metadata": {},
   "source": [
    "* 결측치 확인"
   ]
  },
  {
   "cell_type": "code",
   "execution_count": 8,
   "id": "cf88f2a9",
   "metadata": {},
   "outputs": [
    {
     "data": {
      "text/plain": [
       "date      0\n",
       "open      0\n",
       "high      0\n",
       "low       0\n",
       "close     0\n",
       "volume    0\n",
       "ma3       2\n",
       "ma5       4\n",
       "dtype: int64"
      ]
     },
     "execution_count": 8,
     "metadata": {},
     "output_type": "execute_result"
    }
   ],
   "source": [
    "df.isnull().sum()"
   ]
  },
  {
   "cell_type": "markdown",
   "id": "dbc2c3b1",
   "metadata": {},
   "source": [
    "* 모든 Missing Value 삭제"
   ]
  },
  {
   "cell_type": "code",
   "execution_count": 9,
   "id": "036af528",
   "metadata": {},
   "outputs": [
    {
     "name": "stderr",
     "output_type": "stream",
     "text": [
      "C:\\Users\\gram\\anaconda3\\lib\\site-packages\\pandas\\util\\_decorators.py:311: SettingWithCopyWarning: \n",
      "A value is trying to be set on a copy of a slice from a DataFrame\n",
      "\n",
      "See the caveats in the documentation: https://pandas.pydata.org/pandas-docs/stable/user_guide/indexing.html#returning-a-view-versus-a-copy\n",
      "  return func(*args, **kwargs)\n"
     ]
    },
    {
     "data": {
      "text/plain": [
       "date      0\n",
       "open      0\n",
       "high      0\n",
       "low       0\n",
       "close     0\n",
       "volume    0\n",
       "ma3       0\n",
       "ma5       0\n",
       "dtype: int64"
      ]
     },
     "execution_count": 9,
     "metadata": {},
     "output_type": "execute_result"
    }
   ],
   "source": [
    "df.dropna(inplace = True)\n",
    "\n",
    "df.isnull().sum()"
   ]
  },
  {
   "cell_type": "markdown",
   "id": "5235520f",
   "metadata": {},
   "source": [
    "* 정규화(Normalization)\n",
    " * 딥러닝 학습이 잘되기 위해서는 정규화 작업이 필요\n",
    " * 날짜를 나타내는 date 항목을 제외한 숫자로 표현되는 모든 column에 대해서 0~1 값으로 정규화 수행"
   ]
  },
  {
   "cell_type": "code",
   "execution_count": 10,
   "id": "f15885b4",
   "metadata": {},
   "outputs": [
    {
     "name": "stdout",
     "output_type": "stream",
     "text": [
      "<class 'numpy.ndarray'> \n",
      "\n",
      "          open      high       low     close    volume       ma3       ma5\n",
      "0     0.016750  0.017967  0.016930  0.016745  0.075880  0.017892  0.018381\n",
      "1     0.015463  0.016536  0.016188  0.015792  0.073819  0.017645  0.017852\n",
      "2     0.014607  0.015246  0.014703  0.014125  0.100434  0.016002  0.016915\n",
      "3     0.014082  0.013864  0.013954  0.013643  0.065841  0.014934  0.016316\n",
      "4     0.013463  0.013076  0.012964  0.012452  0.069642  0.013783  0.014969\n",
      "...        ...       ...       ...       ...       ...       ...       ...\n",
      "4461  0.531437  0.521902  0.550708  0.536257  0.069106  0.563668  0.579779\n",
      "4462  0.531437  0.515237  0.540941  0.522470  0.074576  0.551577  0.569951\n",
      "4463  0.513944  0.501906  0.522709  0.506176  0.071697  0.539055  0.556979\n",
      "4464  0.509571  0.514631  0.527918  0.522470  0.059311  0.534305  0.549641\n",
      "4465  0.527689  0.515843  0.542243  0.523096  0.037247  0.534521  0.545579\n",
      "\n",
      "[4466 rows x 7 columns]\n"
     ]
    }
   ],
   "source": [
    "from sklearn.preprocessing import MinMaxScaler\n",
    "\n",
    "scaler = MinMaxScaler()\n",
    "\n",
    "scale_cols = ['open', 'high', 'low', 'close', 'volume', 'ma3', 'ma5'] # 정규화 대상 col 정의\n",
    "\n",
    "scaled_df = scaler.fit_transform(df[scale_cols]) # 정규화 수행\n",
    "\n",
    "print(type(scaled_df), '\\n') # 리턴값은 넘파이\n",
    "\n",
    "scaled_df = pd.DataFrame(scaled_df, columns = scale_cols)\n",
    "\n",
    "print(scaled_df)"
   ]
  },
  {
   "cell_type": "markdown",
   "id": "08ab9617",
   "metadata": {},
   "source": [
    "* feature column / label column 정의\n",
    " * 딥러닝 학습을 위한 입력 데이터 feature column, 타겟데이터 label column 정의 후 numpy로 변환하여 데이터 전처리 과정을 완료함"
   ]
  },
  {
   "cell_type": "code",
   "execution_count": 11,
   "id": "a562add3",
   "metadata": {},
   "outputs": [],
   "source": [
    "feature_cols = ['ma3', 'ma5', 'close']\n",
    "label_cols = ['close']\n",
    "\n",
    "label_df = pd.DataFrame(scaled_df, columns = label_cols)\n",
    "feature_df = pd.DataFrame(scaled_df, columns = feature_cols)\n",
    "\n",
    "# 딥러닝 학습을 위해 df -> np로 변환\n",
    "label_np = label_df.to_numpy()\n",
    "feature_np = feature_df.to_numpy()"
   ]
  },
  {
   "cell_type": "markdown",
   "id": "5d652e66",
   "metadata": {},
   "source": [
    "# 3. 데이터 생성\n",
    " * Window size 설정 후 feature / label 시계열 데이터 생성\n",
    "   * window size : 몇 개의 데이터를 이용해 target 데이터를 예측할 것인지 결정\n",
    " * 학습 데이터 생성. 이 때 입력되는 데이터는 (batch size, time steps, input dims) 형태의 3차원 텐서로 생성되어야 함.\n",
    "   * batch size : window size로 인해 분리된 데이터가 총 몇 개인지 나타냄\n",
    "   * time steps : 몇 개의 데이터를 이용해 target 데이터를 예측할 것인지 결정\n",
    "   * input dims : rnn layer로 한 번에 들어가는 데이터가 몇 개인지 나타냄"
   ]
  },
  {
   "cell_type": "markdown",
   "id": "b5077777",
   "metadata": {},
   "source": [
    "* 학습 데이터 X, Y 생성"
   ]
  },
  {
   "cell_type": "code",
   "execution_count": 12,
   "id": "7a75832f",
   "metadata": {},
   "outputs": [
    {
     "name": "stdout",
     "output_type": "stream",
     "text": [
      "(4426, 40, 3) (4426, 1)\n"
     ]
    }
   ],
   "source": [
    "def make_sequence_dataset(feature, label, window_size):\n",
    "    feature_list = [] # 생성될 피처 리스트\n",
    "    label_list = [] # 생성될 라벨 리스트\n",
    "    \n",
    "    for i in range(len(feature)-window_size):\n",
    "        feature_list.append(feature[i:i+window_size])\n",
    "        label_list.append(label[i+window_size])\n",
    "        \n",
    "    return np.array(feature_list), np.array(label_list) # 3차원 텐서로 리턴헤줌\n",
    "\n",
    "window_size = 40 # 앞의 40개의 데이터를 이용해 예측\n",
    "\n",
    "X, Y = make_sequence_dataset(feature_np, label_np, window_size)\n",
    "\n",
    "print(X.shape, Y.shape)"
   ]
  },
  {
   "cell_type": "markdown",
   "id": "ae2e6928",
   "metadata": {},
   "source": [
    "* train / test 데이터셋 분리"
   ]
  },
  {
   "cell_type": "code",
   "execution_count": 13,
   "id": "55f44b1d",
   "metadata": {},
   "outputs": [],
   "source": [
    "split = -200\n",
    "\n",
    "x_train = X[0:split]\n",
    "y_train = Y[0:split]\n",
    "\n",
    "x_test = X[split:]\n",
    "y_test = Y[split:]"
   ]
  },
  {
   "cell_type": "markdown",
   "id": "63591b7c",
   "metadata": {},
   "source": [
    "# 4. 순환신경망 모델 구축 및 학습"
   ]
  },
  {
   "cell_type": "markdown",
   "id": "51bf9715",
   "metadata": {},
   "source": [
    "* LSTM 모델 구축"
   ]
  },
  {
   "cell_type": "code",
   "execution_count": 14,
   "id": "d97b6538",
   "metadata": {},
   "outputs": [
    {
     "name": "stdout",
     "output_type": "stream",
     "text": [
      "Model: \"sequential\"\n",
      "_________________________________________________________________\n",
      " Layer (type)                Output Shape              Param #   \n",
      "=================================================================\n",
      " lstm (LSTM)                 (None, 128)               67584     \n",
      "                                                                 \n",
      " dense (Dense)               (None, 1)                 129       \n",
      "                                                                 \n",
      "=================================================================\n",
      "Total params: 67,713\n",
      "Trainable params: 67,713\n",
      "Non-trainable params: 0\n",
      "_________________________________________________________________\n"
     ]
    }
   ],
   "source": [
    "model = Sequential()\n",
    "\n",
    "model.add(LSTM(128,\n",
    "               activation = 'tanh', # layer에 tanh를 활성화 함수로 가지는 노드 수 128개\n",
    "               input_shape = x_train[0].shape))\n",
    "\n",
    "model.add(Dense(1, activation = 'linear'))\n",
    "\n",
    "model.summary()"
   ]
  },
  {
   "cell_type": "markdown",
   "id": "4544a303",
   "metadata": {},
   "source": [
    "* 모델 컴파일 및 학습"
   ]
  },
  {
   "cell_type": "code",
   "execution_count": 15,
   "id": "819b248f",
   "metadata": {},
   "outputs": [
    {
     "name": "stdout",
     "output_type": "stream",
     "text": [
      "Epoch 1/100\n",
      "265/265 [==============================] - 14s 38ms/step - loss: 0.0014 - mae: 0.0201 - val_loss: 4.1063e-04 - val_mae: 0.0163\n",
      "Epoch 2/100\n",
      "265/265 [==============================] - 8s 30ms/step - loss: 3.9381e-04 - mae: 0.0138 - val_loss: 3.9170e-04 - val_mae: 0.0151\n",
      "Epoch 3/100\n",
      "265/265 [==============================] - 8s 29ms/step - loss: 3.5954e-04 - mae: 0.0134 - val_loss: 3.0082e-04 - val_mae: 0.0136\n",
      "Epoch 4/100\n",
      "265/265 [==============================] - 8s 30ms/step - loss: 3.0976e-04 - mae: 0.0124 - val_loss: 2.6624e-04 - val_mae: 0.0128\n",
      "Epoch 5/100\n",
      "265/265 [==============================] - 8s 31ms/step - loss: 2.6504e-04 - mae: 0.0112 - val_loss: 4.2879e-04 - val_mae: 0.0174\n",
      "Epoch 6/100\n",
      "265/265 [==============================] - 9s 32ms/step - loss: 2.5307e-04 - mae: 0.0111 - val_loss: 3.6205e-04 - val_mae: 0.0154\n",
      "Epoch 7/100\n",
      "265/265 [==============================] - 9s 35ms/step - loss: 2.4022e-04 - mae: 0.0108 - val_loss: 2.7787e-04 - val_mae: 0.0136\n",
      "Epoch 8/100\n",
      "265/265 [==============================] - 10s 36ms/step - loss: 2.0576e-04 - mae: 0.0099 - val_loss: 3.0932e-04 - val_mae: 0.0145\n",
      "Epoch 9/100\n",
      "265/265 [==============================] - 9s 35ms/step - loss: 2.0977e-04 - mae: 0.0101 - val_loss: 1.8315e-04 - val_mae: 0.0107\n",
      "Epoch 10/100\n",
      "265/265 [==============================] - 8s 30ms/step - loss: 2.0013e-04 - mae: 0.0101 - val_loss: 1.8610e-04 - val_mae: 0.0109\n",
      "Epoch 11/100\n",
      "265/265 [==============================] - 8s 31ms/step - loss: 1.7105e-04 - mae: 0.0091 - val_loss: 1.7776e-04 - val_mae: 0.0106\n",
      "Epoch 12/100\n",
      "265/265 [==============================] - 7s 25ms/step - loss: 1.7076e-04 - mae: 0.0089 - val_loss: 1.5227e-04 - val_mae: 0.0096\n",
      "Epoch 13/100\n",
      "265/265 [==============================] - 8s 28ms/step - loss: 1.6696e-04 - mae: 0.0089 - val_loss: 1.6158e-04 - val_mae: 0.0100\n",
      "Epoch 14/100\n",
      "265/265 [==============================] - 8s 29ms/step - loss: 1.6560e-04 - mae: 0.0089 - val_loss: 2.5579e-04 - val_mae: 0.0134\n",
      "Epoch 15/100\n",
      "265/265 [==============================] - 8s 29ms/step - loss: 1.5321e-04 - mae: 0.0085 - val_loss: 1.5223e-04 - val_mae: 0.0097\n",
      "Epoch 16/100\n",
      "265/265 [==============================] - 8s 30ms/step - loss: 1.5131e-04 - mae: 0.0085 - val_loss: 1.3193e-04 - val_mae: 0.0087\n",
      "Epoch 17/100\n",
      "265/265 [==============================] - 9s 35ms/step - loss: 1.5305e-04 - mae: 0.0085 - val_loss: 1.4244e-04 - val_mae: 0.0093\n",
      "Epoch 18/100\n",
      "265/265 [==============================] - 10s 37ms/step - loss: 1.5389e-04 - mae: 0.0084 - val_loss: 1.4903e-04 - val_mae: 0.0095\n",
      "Epoch 19/100\n",
      "265/265 [==============================] - 7s 28ms/step - loss: 1.6167e-04 - mae: 0.0088 - val_loss: 1.5770e-04 - val_mae: 0.0099\n",
      "Epoch 20/100\n",
      "265/265 [==============================] - 8s 29ms/step - loss: 1.4547e-04 - mae: 0.0083 - val_loss: 1.7634e-04 - val_mae: 0.0106\n",
      "Epoch 21/100\n",
      "265/265 [==============================] - 9s 32ms/step - loss: 1.5017e-04 - mae: 0.0084 - val_loss: 2.0550e-04 - val_mae: 0.0117\n"
     ]
    },
    {
     "data": {
      "text/plain": [
       "<keras.callbacks.History at 0x1807dc35d00>"
      ]
     },
     "execution_count": 15,
     "metadata": {},
     "output_type": "execute_result"
    }
   ],
   "source": [
    "from tensorflow.keras.callbacks import EarlyStopping\n",
    "\n",
    "model.compile(loss = 'mse', optimizer = 'adam', metrics = ['mae'])\n",
    "\n",
    "# 조기 중단을 위한 설정\n",
    "early_stop = EarlyStopping(monitor = 'val_loss', patience = 5)\n",
    "\n",
    "model.fit(x_train, y_train, validation_data = (x_test, y_test), epochs = 100, batch_size = 16, callbacks = [early_stop])"
   ]
  },
  {
   "cell_type": "markdown",
   "id": "d096b1d1",
   "metadata": {},
   "source": [
    "=> 100번의 실행 중 20번째부터 loss 값이 더 이상 작아지지 않아 조기 중단되는 것을 확인할 수 있음"
   ]
  },
  {
   "cell_type": "code",
   "execution_count": 16,
   "id": "64000056",
   "metadata": {},
   "outputs": [
    {
     "data": {
      "image/png": "[encoded data removed]",
      "text/plain": [
       "<Figure size 864x432 with 1 Axes>"
      ]
     },
     "metadata": {
      "needs_background": "light"
     },
     "output_type": "display_data"
    }
   ],
   "source": [
    "pred = model.predict(x_test)\n",
    "\n",
    "plt.figure(figsize = (12, 6))\n",
    "plt.title('3MA + 5MA + Close, window_size = 40')\n",
    "plt.ylabel('close')\n",
    "plt.xlabel('period')\n",
    "plt.plot(y_test, label = 'actual')\n",
    "plt.plot(pred, label = 'prediction')\n",
    "plt.grid()\n",
    "plt.legend(loc = 'best')\n",
    "plt.show()"
   ]
  }
 ],
 "metadata": {
  "kernelspec": {
   "display_name": "Python 3 (ipykernel)",
   "language": "python",
   "name": "python3"
  },
  "language_info": {
   "codemirror_mode": {
    "name": "ipython",
    "version": 3
   },
   "file_extension": ".py",
   "mimetype": "text/x-python",
   "name": "python",
   "nbconvert_exporter": "python",
   "pygments_lexer": "ipython3",
   "version": "3.9.7"
  }
 },
 "nbformat": 4,
 "nbformat_minor": 5
}
