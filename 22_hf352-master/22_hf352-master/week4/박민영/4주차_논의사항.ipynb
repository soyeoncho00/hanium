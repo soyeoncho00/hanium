{
 "cells": [
  {
   "cell_type": "markdown",
   "id": "d39e1d59",
   "metadata": {},
   "source": [
    "* 하이퍼 파라미터 튜닝\n",
    " * Epoch / Batch / Hidden Layer node / dropout "
   ]
  },
  {
   "cell_type": "markdown",
   "id": "451b5fb7",
   "metadata": {},
   "source": [
    "* 평가지표\n",
    " * https://velog.io/@hyesoup/%EB%A8%B8%EC%8B%A0%EB%9F%AC%EB%8B%9D-%ED%9A%8C%EA%B7%80-%EB%AA%A8%EB%8D%B8%EC%9D%98-%EC%84%B1%EB%8A%A5-%ED%8F%89%EA%B0%80-%EC%A7%80%ED%91%9C-MAE-MSE-RMSE-R-squred\n",
    " * MAE, MSE, RMSE\n",
    " * MSE : 제곱을 사용하기 때문에 특이치(Outlier)에 상당히 민감\n",
    " * RMSE : MSE보다 특이치에 Robust함\n",
    " * R-squared\n",
    " * MAE와 RMSE를 비교했을 때 RMSE가 큰 오류값에 패널티를 크게 주었고, 머신러닝의 '학습'에 있어서는 이러한 특이값에 휘둘리지 않는 게 굉장히 중요하기 때문에 강점을 보임\n",
    " * RMSE와 MAPE ??"
   ]
  },
  {
   "cell_type": "markdown",
   "id": "89690cf7",
   "metadata": {},
   "source": [
    "* 데이터 개수\n",
    " * https://subinium.github.io/data-size-and-ml-model/\n",
    " * 동일한 사전 연구를 참고하여 필요한 정보의 양에 대해 파악\n",
    " * 딥러닝의 경우 데이터의 수가 더 많이 필요함\n",
    " * 학습 곡선 : x축을 훈련 테스트 세트의 크기, y축을 모델의 성능으로 plotting하여 모델에 미치는 영향을 파악 => 많은 글에서 일반적인 모델을 만들기 위해 이 방법을 가장 추천\n",
    " "
   ]
  },
  {
   "cell_type": "markdown",
   "id": "2526140c",
   "metadata": {},
   "source": [
    "* 모델링 시 변수 선택"
   ]
  },
  {
   "cell_type": "markdown",
   "id": "e2fbd875",
   "metadata": {},
   "source": [
    "* 코드 통합\n",
    " * 조기중단\n",
    " * 변수 몇개 사용할지\n",
    " * 학습 / 검증 / 테스트 데이터셋 비율\n",
    " * 몇년치 데이터 사용할 지"
   ]
  },
  {
   "cell_type": "markdown",
   "id": "9fb310e9",
   "metadata": {},
   "source": [
    "* 멘토님 여쭤볼 것\n",
    " * 키움증권 조회제한\n",
    " * 몇년치 데이터 사용할 지 자문\n",
    " * 평가지표\n",
    " * 종목별로 모델링을 어떻게 적용 (시간 문제)\n",
    " * 데이터 개수는 추후 논의\n",
    " * 모델링 시 변수 선택는 추후 논의"
   ]
  },
  {
   "cell_type": "code",
   "execution_count": null,
   "id": "0dea2e96",
   "metadata": {},
   "outputs": [],
   "source": []
  }
 ],
 "metadata": {
  "kernelspec": {
   "display_name": "Python 3 (ipykernel)",
   "language": "python",
   "name": "python3"
  },
  "language_info": {
   "codemirror_mode": {
    "name": "ipython",
    "version": 3
   },
   "file_extension": ".py",
   "mimetype": "text/x-python",
   "name": "python",
   "nbconvert_exporter": "python",
   "pygments_lexer": "ipython3",
   "version": "3.9.7"
  }
 },
 "nbformat": 4,
 "nbformat_minor": 5
}
