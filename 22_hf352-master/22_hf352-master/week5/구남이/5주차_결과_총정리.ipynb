{
 "cells": [
  {
   "cell_type": "markdown",
   "metadata": {},
   "source": [
    "### LSTM 을 활용한 주가 예측 모델\n",
    "##### 원본 데이터 사용\n",
    "\n",
    "지표 | Results\n",
    "-----|----------\n",
    "MAE | 3362.06910\n",
    "RMSE | 4457.73061\n",
    "RMSLE | 0.04175\n",
    "R2 | 0.95264"
   ]
  },
  {
   "cell_type": "markdown",
   "metadata": {},
   "source": [
    "##### 이동평균선만 추가\n",
    "\n",
    "지표 | Results\n",
    "-----|----------\n",
    "MAE\t| 5094.21152\n",
    "RMSE | 6735.85523\n",
    "RMSLE | 0.06122\n",
    "R2 | 0.89119\n"
   ]
  },
  {
   "cell_type": "markdown",
   "metadata": {},
   "source": [
    "#### 👍(best!)데이터 모두 사용했을 때, 주식 보조지표 모두 추가했을 때 (ta 패키지)\n",
    "\n",
    "지표 | Results\n",
    "-----|----------\n",
    "MAE\t| 1977.30250\n",
    "RMSE | 2858.21843\n",
    "RMSLE | 0.02755\n",
    "R2 | 0.98041"
   ]
  },
  {
   "cell_type": "markdown",
   "metadata": {},
   "source": [
    "#### 대표적인 주식 보조지표만 추가 했을 때\n",
    "지표 | Results\n",
    "----|------------\n",
    "MAE\t| 1981.30453\n",
    "RMSE | 2870.28895\n",
    "RMSLE | 0.02753\n",
    "R2 | 0.98024"
   ]
  },
  {
   "cell_type": "markdown",
   "metadata": {},
   "source": [
    "##### 5년치 데이터 사용했을 때, 주식 보조지표 모두 추가했을 때 (ta 패키지)\n",
    "\n",
    "지표 | Results\n",
    "-----|----------\n",
    "MAE\t| 2205.36732\n",
    "RMSE | 3265.69268\n",
    "RMSLE | 0.02534\n",
    "R2 | 0.96092"
   ]
  },
  {
   "cell_type": "markdown",
   "metadata": {},
   "source": [
    "##### 주가 보조지표 추가, 환율 데이터 추가 (환율데이터 minmax scaling)\n",
    "\n",
    "지표 | Results\n",
    "-----|---------\n",
    "MAE\t| 5623.06562\n",
    "RMSE | 8168.90404\n",
    "RMSLE | 0.07091\n",
    "R2 | 0.83997"
   ]
  },
  {
   "cell_type": "markdown",
   "metadata": {},
   "source": [
    "##### 주가 보조지표 추가, 환율 데이터 추가 (환율데이터는 minmax scaling 시행 X)\n",
    "\n",
    "지표 | Results\n",
    "-----|---------\n",
    "MAE\t| 3267.31106\n",
    "RMSE | 4730.21897\n",
    "RMSLE | 0.04156\n",
    "R2 | 0.94634"
   ]
  }
 ],
 "metadata": {
  "language_info": {
   "name": "python"
  },
  "orig_nbformat": 4
 },
 "nbformat": 4,
 "nbformat_minor": 2
}
