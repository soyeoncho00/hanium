{
 "cells": [
  {
   "cell_type": "code",
   "execution_count": 1,
   "id": "4520c4ab",
   "metadata": {},
   "outputs": [],
   "source": [
    "#!pip install pandas-datareader\n",
    "import pandas as pd\n",
    "import pandas_datareader.data as web\n",
    "import datetime\n",
    "import csv\n",
    "\n",
    "code_df = pd.read_csv('C:/Users/Mgyu/PL/financial/상장법인목록_2022_05_08.csv')\n",
    "code_df = code_df[['회사명', '종목코드']]"
   ]
  },
  {
   "cell_type": "code",
   "execution_count": 2,
   "id": "be29a3ed",
   "metadata": {},
   "outputs": [
    {
     "data": {
      "text/html": [
       "<div>\n",
       "<style scoped>\n",
       "    .dataframe tbody tr th:only-of-type {\n",
       "        vertical-align: middle;\n",
       "    }\n",
       "\n",
       "    .dataframe tbody tr th {\n",
       "        vertical-align: top;\n",
       "    }\n",
       "\n",
       "    .dataframe thead th {\n",
       "        text-align: right;\n",
       "    }\n",
       "</style>\n",
       "<table border=\"1\" class=\"dataframe\">\n",
       "  <thead>\n",
       "    <tr style=\"text-align: right;\">\n",
       "      <th></th>\n",
       "      <th>회사명</th>\n",
       "      <th>종목코드</th>\n",
       "    </tr>\n",
       "  </thead>\n",
       "  <tbody>\n",
       "    <tr>\n",
       "      <th>0</th>\n",
       "      <td>상상인제3호스팩</td>\n",
       "      <td>415580</td>\n",
       "    </tr>\n",
       "    <tr>\n",
       "      <th>1</th>\n",
       "      <td>신영스팩7호</td>\n",
       "      <td>419270</td>\n",
       "    </tr>\n",
       "    <tr>\n",
       "      <th>2</th>\n",
       "      <td>포바이포</td>\n",
       "      <td>389140</td>\n",
       "    </tr>\n",
       "    <tr>\n",
       "      <th>3</th>\n",
       "      <td>신한제9호스팩</td>\n",
       "      <td>405640</td>\n",
       "    </tr>\n",
       "    <tr>\n",
       "      <th>4</th>\n",
       "      <td>미래에셋비전스팩1호</td>\n",
       "      <td>412930</td>\n",
       "    </tr>\n",
       "    <tr>\n",
       "      <th>...</th>\n",
       "      <td>...</td>\n",
       "      <td>...</td>\n",
       "    </tr>\n",
       "    <tr>\n",
       "      <th>2495</th>\n",
       "      <td>CJ대한통운</td>\n",
       "      <td>120</td>\n",
       "    </tr>\n",
       "    <tr>\n",
       "      <th>2496</th>\n",
       "      <td>메리츠화재</td>\n",
       "      <td>60</td>\n",
       "    </tr>\n",
       "    <tr>\n",
       "      <th>2497</th>\n",
       "      <td>경방</td>\n",
       "      <td>50</td>\n",
       "    </tr>\n",
       "    <tr>\n",
       "      <th>2498</th>\n",
       "      <td>유수홀딩스</td>\n",
       "      <td>700</td>\n",
       "    </tr>\n",
       "    <tr>\n",
       "      <th>2499</th>\n",
       "      <td>한진중공업홀딩스</td>\n",
       "      <td>3480</td>\n",
       "    </tr>\n",
       "  </tbody>\n",
       "</table>\n",
       "<p>2500 rows × 2 columns</p>\n",
       "</div>"
      ],
      "text/plain": [
       "             회사명    종목코드\n",
       "0       상상인제3호스팩  415580\n",
       "1         신영스팩7호  419270\n",
       "2           포바이포  389140\n",
       "3        신한제9호스팩  405640\n",
       "4     미래에셋비전스팩1호  412930\n",
       "...          ...     ...\n",
       "2495      CJ대한통운     120\n",
       "2496       메리츠화재      60\n",
       "2497          경방      50\n",
       "2498       유수홀딩스     700\n",
       "2499    한진중공업홀딩스    3480\n",
       "\n",
       "[2500 rows x 2 columns]"
      ]
     },
     "execution_count": 2,
     "metadata": {},
     "output_type": "execute_result"
    }
   ],
   "source": [
    "code_df"
   ]
  },
  {
   "cell_type": "code",
   "execution_count": 3,
   "id": "b472608e",
   "metadata": {},
   "outputs": [],
   "source": [
    "code_df.종목코드 = code_df.종목코드.map('{:06d}'.format) # 0을 체워넣어서 여섯자리로 종목코드 길이 고정 "
   ]
  },
  {
   "cell_type": "code",
   "execution_count": 5,
   "id": "0b705c88",
   "metadata": {},
   "outputs": [],
   "source": [
    "def get_code(df, name):\n",
    "    name_list = list(code_df['회사명'])\n",
    "    if name not in name_list:\n",
    "        print('회사명을 정확히 입력해주세요.')\n",
    "    else:\n",
    "        code = df.loc[df['회사명'] == name, '종목코드'].to_string(index=False)\n",
    "        code = code.strip()\n",
    "        return code"
   ]
  },
  {
   "cell_type": "code",
   "execution_count": 6,
   "id": "ba220312",
   "metadata": {},
   "outputs": [
    {
     "name": "stdout",
     "output_type": "stream",
     "text": [
      "원하는 회사명을 정확히 입력하세요: 삼성전자\n"
     ]
    }
   ],
   "source": [
    "name = input(\"원하는 회사명을 정확히 입력하세요: \")\n",
    "code = get_code(code_df, name)"
   ]
  },
  {
   "cell_type": "code",
   "execution_count": 7,
   "id": "33ea26d3",
   "metadata": {},
   "outputs": [],
   "source": [
    "start = datetime.datetime(2012, 5, 8)\n",
    "end = datetime.datetime(2022, 5, 8)\n",
    "df = web.DataReader(f\"{code}.KS\", \"yahoo\", start, end)\n",
    "# \"yahoo\"사이트에서 \"005930.KS\"코드에 해당하는 주가 데이터 가져옴\n",
    "\n",
    "df.to_csv(f'C:/Users/Mgyu/PL/financial/{name}.csv')"
   ]
  }
 ],
 "metadata": {
  "kernelspec": {
   "display_name": "Python 3 (ipykernel)",
   "language": "python",
   "name": "python3"
  },
  "language_info": {
   "codemirror_mode": {
    "name": "ipython",
    "version": 3
   },
   "file_extension": ".py",
   "mimetype": "text/x-python",
   "name": "python",
   "nbconvert_exporter": "python",
   "pygments_lexer": "ipython3",
   "version": "3.7.13"
  }
 },
 "nbformat": 4,
 "nbformat_minor": 5
}
